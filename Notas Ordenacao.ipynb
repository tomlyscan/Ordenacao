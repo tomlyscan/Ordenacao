{
 "cells": [
  {
   "cell_type": "code",
   "execution_count": 67,
   "metadata": {},
   "outputs": [],
   "source": [
    "import numpy as np\n",
    "import math"
   ]
  },
  {
   "cell_type": "code",
   "execution_count": 68,
   "metadata": {},
   "outputs": [
    {
     "name": "stdout",
     "output_type": "stream",
     "text": [
      "[10, 9, 8, 7, 6, 5, 4, 3, 2, 1]\n",
      "[10, 9, 8, 7, 6]\n",
      "[5, 4, 3, 2, 1]\n",
      "[1, 2, 3, 4, 5, 6, 7, 8, 9]\n",
      "[1, 2, 3, 4]\n",
      "[5, 6, 7, 8, 9]\n"
     ]
    }
   ],
   "source": [
    "# Divisao de um array\n",
    "\n",
    "A = [10, 9, 8, 7, 6, 5, 4, 3, 2, 1]\n",
    "print(A)\n",
    "print(A[:int(len(A)/2)])\n",
    "print(A[int(len(A)/2):])\n",
    "\n",
    "B = [1, 2, 3, 4, 5, 6, 7, 8, 9]\n",
    "print(B)\n",
    "print(B[:int(len(B)/2)])\n",
    "print(B[int(len(B)/2):])"
   ]
  },
  {
   "cell_type": "code",
   "execution_count": 69,
   "metadata": {},
   "outputs": [
    {
     "name": "stdout",
     "output_type": "stream",
     "text": [
      "[10, 9, 8, 7, 6, inf]\n",
      "[5, 4, 3, 2, 1, inf]\n"
     ]
    }
   ],
   "source": [
    "# Criando a funcao merge\n",
    "\n",
    "begin = 0\n",
    "middle = int(len(A)/2)\n",
    "end = len(A)\n",
    "\n",
    "left = A[begin:middle] + [math.inf]\n",
    "right = A[middle:end] + [math.inf]\n",
    "print(left)\n",
    "print(right)"
   ]
  },
  {
   "cell_type": "code",
   "execution_count": 5,
   "metadata": {},
   "outputs": [],
   "source": [
    "def merge(A, L, R):\n",
    "    i = j = k = 0\n",
    "    while i < len(L) and j < len(R):\n",
    "        if L[i] < R[j]:\n",
    "            A[k] = L[i]\n",
    "            i += 1\n",
    "        else:\n",
    "            A[k] = R[j]\n",
    "            j += 1\n",
    "        k += 1\n",
    "        \n",
    "    while i < len(L):\n",
    "        A[k] = L[i]\n",
    "        i += 1\n",
    "        k += 1\n",
    "        \n",
    "    while j < len(R):\n",
    "        A[k] = R[j]\n",
    "        j += 1\n",
    "        k += 1"
   ]
  },
  {
   "cell_type": "code",
   "execution_count": 6,
   "metadata": {},
   "outputs": [],
   "source": [
    "def merge_sort(A):    \n",
    "    if len(A) > 1:\n",
    "        q = len(A)//2            # Divisao inteira\n",
    "        L = A[:q]\n",
    "        R = A[q:]       \n",
    "        \n",
    "        merge_sort(L)\n",
    "        merge_sort(R)\n",
    "        merge(A, L, R)\n",
    "    return A"
   ]
  },
  {
   "cell_type": "code",
   "execution_count": 8,
   "metadata": {},
   "outputs": [
    {
     "name": "stdout",
     "output_type": "stream",
     "text": [
      "[10, 10, 10, 10, 10, 10, 10, 10, 10, 10, 70, -12, 7, 14, 5, 81, 0, 800, -764, 9, 8, -5, 6, 3, -77, 8, 99]\n",
      "[-764, -77, -12, -5, 0, 3, 5, 6, 7, 8, 8, 9, 10, 10, 10, 10, 10, 10, 10, 10, 10, 10, 14, 70, 81, 99, 800]\n"
     ]
    }
   ],
   "source": [
    "K = [10, 10, 10, 10, 10, 10, 10, 10, 10, 10, 70, -12, 7, 14, 5, 81, 0, 800, -764,9,8,-5,6,3,-77,8,99]\n",
    "print(K)\n",
    "merge_sort(K)\n",
    "print(K)"
   ]
  },
  {
   "cell_type": "code",
   "execution_count": 32,
   "metadata": {},
   "outputs": [
    {
     "name": "stdout",
     "output_type": "stream",
     "text": [
      "1000\n"
     ]
    }
   ],
   "source": [
    "import pandas as pd\n",
    "data = pd.read_csv('instancias-num/num.1000.1.in')\n",
    "arr = data.to_numpy().ravel()\n",
    "print(len(arr))\n"
   ]
  },
  {
   "cell_type": "code",
   "execution_count": null,
   "metadata": {},
   "outputs": [],
   "source": []
  },
  {
   "cell_type": "code",
   "execution_count": 4,
   "metadata": {},
   "outputs": [
    {
     "name": "stdout",
     "output_type": "stream",
     "text": [
      "['b', 'c', 3, 4, 5, 6]\n",
      "[1, 2, 'a']\n"
     ]
    }
   ],
   "source": [
    "lista = [1,2,\"a\",\"b\",\"c\",3,4,5,6]\n",
    "print(lista[3:])\n",
    "print(lista[:3])\n"
   ]
  },
  {
   "cell_type": "markdown",
   "metadata": {},
   "source": [
    "## Algoritmo Counting sort"
   ]
  },
  {
   "cell_type": "markdown",
   "metadata": {},
   "source": [
    "1. Encontra o maior valor da lista a ser ordenada\n",
    "   [8, 10, 12, 4, 7, 3, 0] maior = 12\n",
    "   \n",
    "2. Cria um array para contagem com maior+1 posições"
   ]
  },
  {
   "cell_type": "code",
   "execution_count": 63,
   "metadata": {},
   "outputs": [
    {
     "name": "stdout",
     "output_type": "stream",
     "text": [
      "Maior valor da lista:  10\n",
      "Menor valor da lista:  -3\n"
     ]
    }
   ],
   "source": [
    "# Encontrando o maximo e minimo valor em uma lista:\n",
    "a = [1, -2, 2, 0, 3, 4, 5, 10, -3, -1]\n",
    "print('Maior valor da lista: ', max(a))\n",
    "print('Menor valor da lista: ', min(a))"
   ]
  },
  {
   "cell_type": "code",
   "execution_count": 64,
   "metadata": {},
   "outputs": [
    {
     "name": "stdout",
     "output_type": "stream",
     "text": [
      "Lista contador:    [0, 0, 0, 0, 0, 0, 0, 0, 0, 0, 0, 0, 0, 0]\n",
      "Lista de indices:  [-3, -2, -1, 0, 1, 2, 3, 4, 5, 6, 7, 8, 9, 10]\n"
     ]
    }
   ],
   "source": [
    "# Criar uma lista de tamanho fixo inicializado com 0:\n",
    "contador = max(a) + abs(min(a)) + 1\n",
    "pos_zero = abs(min(a))\n",
    "\n",
    "lista_contador = [0]*contador\n",
    "print('Lista contador:   ', lista_contador)\n",
    "print('Lista de indices: ', [i for i in range(min(a),max(a)+1)])"
   ]
  },
  {
   "cell_type": "code",
   "execution_count": 65,
   "metadata": {},
   "outputs": [
    {
     "name": "stdout",
     "output_type": "stream",
     "text": [
      "Lista contador:    [1, 1, 1, 1, 1, 1, 1, 1, 1, 0, 0, 0, 0, 1]\n",
      "Lista de indices:  [-3, -2, -1, 0, 1, 2, 3, 4, 5, 6, 7, 8, 9, 10]\n"
     ]
    }
   ],
   "source": [
    "# Incrementar as posicoes de lista_contador com os elementos da lista a ser ordenada\n",
    "for i in range(len(a)):\n",
    "    if a[i] == 0:\n",
    "        lista_contador[pos_zero] += 1\n",
    "    elif a[i] > 0:\n",
    "        lista_contador[pos_zero + a[i]] += 1\n",
    "    elif a[i] < 0:\n",
    "        lista_contador[pos_zero + a[i]] += 1\n",
    "    \n",
    "        \n",
    "print('Lista contador:   ', lista_contador)\n",
    "print('Lista de indices: ', [i for i in range(min(a),max(a)+1)])        "
   ]
  },
  {
   "cell_type": "code",
   "execution_count": 67,
   "metadata": {},
   "outputs": [
    {
     "data": {
      "text/plain": [
       "[-3, -2, -1, 0, 1, 2, 3, 4, 5, 10]"
      ]
     },
     "execution_count": 67,
     "metadata": {},
     "output_type": "execute_result"
    }
   ],
   "source": [
    "# Ler a lista_contador e gerar a lista ordenada\n",
    "ordenada = []\n",
    "for i in range(len(lista_contador)):\n",
    "    if lista_contador[i] > 0:\n",
    "        for j in range(lista_contador[i]):\n",
    "            if i < pos_zero:\n",
    "                ordenada += [i - pos_zero]\n",
    "            elif i == pos_zero:\n",
    "                ordenada += [0]\n",
    "            elif i > pos_zero:\n",
    "                ordenada += [i - pos_zero]\n",
    "        \n",
    "ordenada"
   ]
  },
  {
   "cell_type": "code",
   "execution_count": 18,
   "metadata": {},
   "outputs": [],
   "source": [
    "# Criando a funcao counting sort:\n",
    "def counting_sort(a):\n",
    "    ordenada = []\n",
    "    contador = max(a) + abs(min(a)) + 1\n",
    "    pos_zero = abs(min(a))\n",
    "    lista_contador = [0]*contador\n",
    "    for i in range(len(a)):\n",
    "        if a[i] == 0:\n",
    "            lista_contador[pos_zero] += 1\n",
    "        else:\n",
    "            lista_contador[pos_zero + a[i]] += 1\n",
    "    for i in range(len(lista_contador)):\n",
    "        if lista_contador[i] > 0:\n",
    "            for j in range(lista_contador[i]):\n",
    "                if i == pos_zero:\n",
    "                    ordenada += [0]\n",
    "                else:\n",
    "                    ordenada += [i - pos_zero]\n",
    "    return ordenada    "
   ]
  },
  {
   "cell_type": "code",
   "execution_count": 71,
   "metadata": {},
   "outputs": [
    {
     "name": "stdout",
     "output_type": "stream",
     "text": [
      "[-3, -2, -1, 0, 1, 2, 3, 4, 5, 10]\n"
     ]
    }
   ],
   "source": [
    "# Testando counting sort:\n",
    "print(counting_sort(a))"
   ]
  },
  {
   "cell_type": "markdown",
   "metadata": {},
   "source": [
    "## Algoritmo Radix Sort"
   ]
  },
  {
   "cell_type": "code",
   "execution_count": 3,
   "metadata": {},
   "outputs": [
    {
     "name": "stdout",
     "output_type": "stream",
     "text": [
      "Numero de digitos do menor numero:  5\n",
      "Numero de digitos do maior numero:  4\n"
     ]
    }
   ],
   "source": [
    "import math\n",
    "a = [1000, 100, 10, 1, -1, -10, -10, -100, -1000, -10000]\n",
    "\n",
    "# Calculando a quantidade de digitos do maior numero da lista em termos absolutos\n",
    "menor = abs(min(a))\n",
    "maior = abs(max(a))\n",
    "digitos_menor = int(math.log10(menor)) +1\n",
    "digitos_maior = int(math.log10(maior)) +1\n",
    "print('Numero de digitos do menor numero: ', digitos_menor)\n",
    "print('Numero de digitos do maior numero: ', digitos_maior)"
   ]
  },
  {
   "cell_type": "code",
   "execution_count": 63,
   "metadata": {},
   "outputs": [
    {
     "data": {
      "text/plain": [
       "[-1, 0, 0, 0]"
      ]
     },
     "execution_count": 63,
     "metadata": {},
     "output_type": "execute_result"
    }
   ],
   "source": [
    "# Transformando um numero em uma lista com os seus digitos\n",
    "# Entrada: numero inteiro, Saida: lista de numeros inteiros\n",
    "def number_to_list(num):\n",
    "    negative = False\n",
    "    res = []\n",
    "    for x in str(num):\n",
    "        if x == '-':\n",
    "            negative = True\n",
    "            continue\n",
    "        if negative == True:\n",
    "            res += [int(x)*-1]\n",
    "            negative = False\n",
    "            continue\n",
    "        res += [int(x)]\n",
    "    return res\n",
    "number_to_list(-1000)"
   ]
  },
  {
   "cell_type": "code",
   "execution_count": 46,
   "metadata": {},
   "outputs": [
    {
     "data": {
      "text/plain": [
       "[0, 0, 0, 0, 0, 0, -1, 0, 0, 0]"
      ]
     },
     "execution_count": 46,
     "metadata": {},
     "output_type": "execute_result"
    }
   ],
   "source": [
    "lista = [-1, 0, 0, 0]\n",
    "len_maior = 10\n",
    "\n",
    "for x in range(0, len_maior - len(lista)):\n",
    "    lista = [0] + lista\n",
    "lista"
   ]
  },
  {
   "cell_type": "code",
   "execution_count": 56,
   "metadata": {},
   "outputs": [
    {
     "data": {
      "text/html": [
       "<div>\n",
       "<style scoped>\n",
       "    .dataframe tbody tr th:only-of-type {\n",
       "        vertical-align: middle;\n",
       "    }\n",
       "\n",
       "    .dataframe tbody tr th {\n",
       "        vertical-align: top;\n",
       "    }\n",
       "\n",
       "    .dataframe thead th {\n",
       "        text-align: right;\n",
       "    }\n",
       "</style>\n",
       "<table border=\"1\" class=\"dataframe\">\n",
       "  <thead>\n",
       "    <tr style=\"text-align: right;\">\n",
       "      <th></th>\n",
       "      <th>0</th>\n",
       "      <th>1</th>\n",
       "      <th>2</th>\n",
       "      <th>3</th>\n",
       "      <th>4</th>\n",
       "      <th>5</th>\n",
       "      <th>6</th>\n",
       "      <th>7</th>\n",
       "      <th>8</th>\n",
       "      <th>9</th>\n",
       "    </tr>\n",
       "  </thead>\n",
       "  <tbody>\n",
       "    <tr>\n",
       "      <th>0</th>\n",
       "      <td>0</td>\n",
       "      <td>0</td>\n",
       "      <td>0</td>\n",
       "      <td>0</td>\n",
       "      <td>0</td>\n",
       "      <td>0</td>\n",
       "      <td>-1</td>\n",
       "      <td>0</td>\n",
       "      <td>0</td>\n",
       "      <td>0</td>\n",
       "    </tr>\n",
       "  </tbody>\n",
       "</table>\n",
       "</div>"
      ],
      "text/plain": [
       "   0  1  2  3  4  5   6  7  8  9\n",
       "0  0  0  0  0  0  0  -1  0  0  0"
      ]
     },
     "execution_count": 56,
     "metadata": {},
     "output_type": "execute_result"
    }
   ],
   "source": [
    "import pandas as pd\n",
    "\n",
    "a_row = pd.Series(lista)\n",
    "index = [x for x in range(len(lista))]\n",
    "df = pd.DataFrame(columns=index)\n",
    "df = df.append(a_row, ignore_index=True)\n",
    "df"
   ]
  },
  {
   "cell_type": "code",
   "execution_count": 5,
   "metadata": {},
   "outputs": [],
   "source": [
    "import math\n",
    "def largest_digit_number(a):\n",
    "    menor = abs(min(a))\n",
    "    maior = abs(max(a))\n",
    "    digitos_menor = int(math.log10(menor)) +1\n",
    "    digitos_maior = int(math.log10(maior)) +1\n",
    "    return digitos_maior if digitos_maior > digitos_menor else digitos_menor\n",
    "#largest_digit_number(a)"
   ]
  },
  {
   "cell_type": "code",
   "execution_count": 64,
   "metadata": {},
   "outputs": [
    {
     "data": {
      "text/plain": [
       "[1, 0, 0, -1, 0, 0, 0]"
      ]
     },
     "execution_count": 64,
     "metadata": {},
     "output_type": "execute_result"
    }
   ],
   "source": [
    "def list_to_row(num, largest_digit_number, index=1 ):\n",
    "    list = number_to_list(num)\n",
    "    for x in range(0, (largest_digit_number+1) - len(list)):\n",
    "        list = [0] + list\n",
    "    list[0] = index\n",
    "    return list\n",
    "list_to_row(-1000, 6) # Primeiro numero da lista é o índice da lista a ser ordenada e que vai servir de hash"
   ]
  },
  {
   "cell_type": "code",
   "execution_count": 65,
   "metadata": {},
   "outputs": [],
   "source": [
    "def list_to_matrix(a):\n",
    "    matrix = []\n",
    "    largest = largest_digit_number(a)\n",
    "    for i in range(len(a)):\n",
    "        matrix += [list_to_row(a[i], largest, i )]\n",
    "    return matrix"
   ]
  },
  {
   "cell_type": "code",
   "execution_count": 66,
   "metadata": {},
   "outputs": [
    {
     "data": {
      "text/plain": [
       "[[0, 0, 1, 0, 0, 0],\n",
       " [1, 0, 0, 1, 0, 0],\n",
       " [2, 0, 0, 0, 1, 0],\n",
       " [3, 0, 0, 0, 0, 1],\n",
       " [4, 0, 0, 0, 0, -1],\n",
       " [5, 0, 0, 0, -1, 0],\n",
       " [6, 0, 0, 0, -1, 0],\n",
       " [7, 0, 0, -1, 0, 0],\n",
       " [8, 0, -1, 0, 0, 0],\n",
       " [9, -1, 0, 0, 0, 0]]"
      ]
     },
     "execution_count": 66,
     "metadata": {},
     "output_type": "execute_result"
    }
   ],
   "source": [
    "list_to_matrix(a)"
   ]
  },
  {
   "cell_type": "code",
   "execution_count": 75,
   "metadata": {},
   "outputs": [
    {
     "name": "stdout",
     "output_type": "stream",
     "text": [
      "[[ 0  0  1  0  0  0]\n",
      " [ 1  0  0  1  0  0]\n",
      " [ 2  0  0  0  1  0]\n",
      " [ 3  0  0  0  0  1]\n",
      " [ 4  0  0  0  0 -1]\n",
      " [ 5  0  0  0 -1  0]\n",
      " [ 6  0  0 -1  0  0]\n",
      " [ 7  0 -1  0  0  0]\n",
      " [ 8 -1  0  0  0  0]]\n",
      "[[ 4  0  0  0  0 -1]\n",
      " [ 0  0  1  0  0  0]\n",
      " [ 1  0  0  1  0  0]\n",
      " [ 2  0  0  0  1  0]\n",
      " [ 5  0  0  0 -1  0]\n",
      " [ 6  0  0 -1  0  0]\n",
      " [ 7  0 -1  0  0  0]\n",
      " [ 8 -1  0  0  0  0]\n",
      " [ 3  0  0  0  0  1]]\n"
     ]
    }
   ],
   "source": [
    "import numpy as np\n",
    "arr2D = np.array(list_to_matrix(a))\n",
    "print(arr2D)\n",
    "arr2D = arr2D[arr2D[:, -1].argsort()] # Ordenando a ultima coluna da matriz\n",
    "print(arr2D)"
   ]
  },
  {
   "cell_type": "code",
   "execution_count": 88,
   "metadata": {},
   "outputs": [
    {
     "data": {
      "text/plain": [
       "array([[ 9, -1,  0,  0,  0,  0],\n",
       "       [ 8,  0, -1,  0,  0,  0],\n",
       "       [ 7,  0,  0, -1,  0,  0],\n",
       "       [ 5,  0,  0,  0, -1,  0],\n",
       "       [ 6,  0,  0,  0, -1,  0],\n",
       "       [ 4,  0,  0,  0,  0, -1],\n",
       "       [ 3,  0,  0,  0,  0,  1],\n",
       "       [ 2,  0,  0,  0,  1,  0],\n",
       "       [ 1,  0,  0,  1,  0,  0],\n",
       "       [ 0,  0,  1,  0,  0,  0]])"
      ]
     },
     "execution_count": 88,
     "metadata": {},
     "output_type": "execute_result"
    }
   ],
   "source": [
    "def sorted_matrix(a):\n",
    "    arr2D = np.array(list_to_matrix(a))\n",
    "    for i in range(1, largest_digit_number(a)+1):\n",
    "        arr2D = arr2D[arr2D[:, -i].argsort()]\n",
    "    return arr2D\n",
    "sm = sorted_matrix(a)\n",
    "sm"
   ]
  },
  {
   "cell_type": "code",
   "execution_count": 84,
   "metadata": {},
   "outputs": [
    {
     "data": {
      "text/plain": [
       "[8, 7, 6, 5, 4, 3, 2, 1, 0]"
      ]
     },
     "execution_count": 84,
     "metadata": {},
     "output_type": "execute_result"
    }
   ],
   "source": [
    "index = []\n",
    "for i in range(len(sm)):\n",
    "    index += [sm[i][0]]\n",
    "index"
   ]
  },
  {
   "cell_type": "code",
   "execution_count": 114,
   "metadata": {},
   "outputs": [
    {
     "data": {
      "text/plain": [
       "[-10000, -1000, -100, -10, -10, -1, 1, 10, 100, 1000]"
      ]
     },
     "execution_count": 114,
     "metadata": {},
     "output_type": "execute_result"
    }
   ],
   "source": [
    "def radix_sort(a):\n",
    "    sorted_list = []\n",
    "    radix_matrix = sorted_matrix(a)\n",
    "    for i in range(len(radix_matrix)):\n",
    "        sorted_list += [a[radix_matrix[i][0]]]\n",
    "    return sorted_list\n",
    "radix_sort(a)"
   ]
  },
  {
   "cell_type": "code",
   "execution_count": 115,
   "metadata": {},
   "outputs": [
    {
     "data": {
      "text/plain": [
       "array([93287,    -2, 94656,   -29,   -14,    24,   -48,     8, 55486,\n",
       "       83534, 67567,    15,    22,   -24,   -30, 50712,   -33, 84648,\n",
       "       52274,    39])"
      ]
     },
     "execution_count": 115,
     "metadata": {},
     "output_type": "execute_result"
    }
   ],
   "source": [
    "arr[:20]"
   ]
  },
  {
   "cell_type": "code",
   "execution_count": 60,
   "metadata": {},
   "outputs": [
    {
     "ename": "NameError",
     "evalue": "name 'list_to_matrix' is not defined",
     "output_type": "error",
     "traceback": [
      "\u001b[0;31m---------------------------------------------------------------------------\u001b[0m",
      "\u001b[0;31mNameError\u001b[0m                                 Traceback (most recent call last)",
      "\u001b[0;32m<ipython-input-60-4e38571aab93>\u001b[0m in \u001b[0;36m<module>\u001b[0;34m\u001b[0m\n\u001b[0;32m----> 1\u001b[0;31m \u001b[0mlist_to_matrix\u001b[0m\u001b[0;34m(\u001b[0m\u001b[0marr\u001b[0m\u001b[0;34m[\u001b[0m\u001b[0;34m:\u001b[0m\u001b[0;36m20\u001b[0m\u001b[0;34m]\u001b[0m\u001b[0;34m)\u001b[0m\u001b[0;34m\u001b[0m\u001b[0;34m\u001b[0m\u001b[0m\n\u001b[0m",
      "\u001b[0;31mNameError\u001b[0m: name 'list_to_matrix' is not defined"
     ]
    }
   ],
   "source": [
    "list_to_matrix(arr[:20])"
   ]
  },
  {
   "cell_type": "code",
   "execution_count": 67,
   "metadata": {},
   "outputs": [
    {
     "ename": "NameError",
     "evalue": "name 'sorted_matrix' is not defined",
     "output_type": "error",
     "traceback": [
      "\u001b[0;31m---------------------------------------------------------------------------\u001b[0m",
      "\u001b[0;31mNameError\u001b[0m                                 Traceback (most recent call last)",
      "\u001b[0;32m<ipython-input-67-3dc56d1b906a>\u001b[0m in \u001b[0;36m<module>\u001b[0;34m\u001b[0m\n\u001b[0;32m----> 1\u001b[0;31m \u001b[0msorted_matrix\u001b[0m\u001b[0;34m(\u001b[0m\u001b[0marr\u001b[0m\u001b[0;34m[\u001b[0m\u001b[0;34m:\u001b[0m\u001b[0;36m20\u001b[0m\u001b[0;34m]\u001b[0m\u001b[0;34m)\u001b[0m\u001b[0;34m\u001b[0m\u001b[0;34m\u001b[0m\u001b[0m\n\u001b[0m",
      "\u001b[0;31mNameError\u001b[0m: name 'sorted_matrix' is not defined"
     ]
    }
   ],
   "source": [
    "sorted_matrix(arr[:20])"
   ]
  },
  {
   "cell_type": "code",
   "execution_count": 12,
   "metadata": {},
   "outputs": [
    {
     "data": {
      "text/plain": [
       "array([[ 6,  0,  0,  0, -4,  8],\n",
       "       [14,  0,  0,  0, -3,  0],\n",
       "       [16,  0,  0,  0, -3,  3],\n",
       "       [13,  0,  0,  0, -2,  4],\n",
       "       [ 3,  0,  0,  0, -2,  9],\n",
       "       [ 4,  0,  0,  0, -1,  4],\n",
       "       [ 1,  0,  0,  0,  0, -2],\n",
       "       [ 7,  0,  0,  0,  0,  8],\n",
       "       [11,  0,  0,  0,  1,  5],\n",
       "       [12,  0,  0,  0,  2,  2],\n",
       "       [ 5,  0,  0,  0,  2,  4],\n",
       "       [19,  0,  0,  0,  3,  9],\n",
       "       [15,  5,  0,  7,  1,  2],\n",
       "       [18,  5,  2,  2,  7,  4],\n",
       "       [ 8,  5,  5,  4,  8,  6],\n",
       "       [10,  6,  7,  5,  6,  7],\n",
       "       [ 9,  8,  3,  5,  3,  4],\n",
       "       [17,  8,  4,  6,  4,  8],\n",
       "       [ 0,  9,  3,  2,  8,  7],\n",
       "       [ 2,  9,  4,  6,  5,  6]])"
      ]
     },
     "execution_count": 12,
     "metadata": {},
     "output_type": "execute_result"
    }
   ],
   "source": [
    "import numpy as np\n",
    "\n",
    "arr2D = np.array([[ 0,  9,  3,  2,  8,  7],\n",
    "       [ 1,  0,  0,  0,  0, -2],\n",
    "       [ 2,  9,  4,  6,  5,  6],\n",
    "       [ 3,  0,  0,  0, -2,  9],\n",
    "       [ 4,  0,  0,  0, -1,  4],\n",
    "       [ 5,  0,  0,  0,  2,  4],\n",
    "       [ 6,  0,  0,  0, -4,  8],\n",
    "       [ 7,  0,  0,  0,  0,  8],\n",
    "       [ 8,  5,  5,  4,  8,  6],\n",
    "       [ 9,  8,  3,  5,  3,  4],\n",
    "       [10,  6,  7,  5,  6,  7],\n",
    "       [11,  0,  0,  0,  1,  5],\n",
    "       [12,  0,  0,  0,  2,  2],\n",
    "       [13,  0,  0,  0, -2,  4],\n",
    "       [14,  0,  0,  0, -3,  0],\n",
    "       [15,  5,  0,  7,  1,  2],\n",
    "       [16,  0,  0,  0, -3,  3],\n",
    "       [17,  8,  4,  6,  4,  8],\n",
    "       [18,  5,  2,  2,  7,  4],\n",
    "       [19,  0,  0,  0,  3,  9]])\n",
    "#array2D_temp = arr2D\n",
    "#col = {}\n",
    "#array = arr2D[:,-1]\n",
    "\n",
    "#for i in range(len(array)):\n",
    "#    col[i] = array[i]\n",
    "\n",
    "#col = {k: v for k, v in sorted(col.items(), key=lambda item: item[1])}\n",
    "\n",
    "#list = [[]]*arr2D.shape[0]\n",
    "#a = 0\n",
    "#for i in col:\n",
    "#    list[a] = arr2D[i].tolist()\n",
    "#    a += 1\n",
    "#list\n",
    "\n",
    "for i in range(1, 6):\n",
    "    radix_col = {}\n",
    "    array = arr2D[:,-i]\n",
    "    matrix = [[]]*arr2D.shape[0]\n",
    "    a = 0\n",
    "    for i in range(len(array)):\n",
    "        radix_col[i] = array[i]\n",
    "    radix_col = {k: v for k, v in sorted(radix_col.items(), key=lambda item: item[1])}\n",
    "    for i in radix_col:\n",
    "        matrix[a] = arr2D[i].tolist()\n",
    "        a += 1\n",
    "    arr2D = np.array(matrix)\n",
    "arr2D"
   ]
  },
  {
   "cell_type": "markdown",
   "metadata": {},
   "source": [
    "## Algoritmo Bucket Sort"
   ]
  },
  {
   "cell_type": "code",
   "execution_count": 18,
   "metadata": {},
   "outputs": [
    {
     "data": {
      "text/plain": [
       "[[1, 12, 13, 14, 15, 16], 1, 2, 3, 4, 5, 6, 7, 8, 9]"
      ]
     },
     "execution_count": 18,
     "metadata": {},
     "output_type": "execute_result"
    }
   ],
   "source": [
    "bucket = [x for x in range(10)]\n",
    "list_0 = [1, 12, 13, 14, 15]\n",
    "bucket[0] = list_0\n",
    "bucket\n",
    "a = 16\n",
    "bucket[0] += [a]\n",
    "bucket"
   ]
  },
  {
   "cell_type": "code",
   "execution_count": 7,
   "metadata": {},
   "outputs": [
    {
     "name": "stdout",
     "output_type": "stream",
     "text": [
      "[0, 1, 2, 3, 4, 5, 6, 7, 8, 9]\n",
      "[0, 1, 2, 3, 4, 5, 6, 7, 8, 9]\n"
     ]
    }
   ],
   "source": [
    "# Criando os buckets para a ordenacao (de 0 a 9 dividido entre numeros positivos e negativos)\n",
    "bucket_positive = [x for x in range(10)]\n",
    "bucket_negative = bucket_positive"
   ]
  },
  {
   "cell_type": "code",
   "execution_count": 59,
   "metadata": {},
   "outputs": [
    {
     "data": {
      "text/plain": [
       "[-48,\n",
       " -33,\n",
       " -30,\n",
       " -29,\n",
       " -24,\n",
       " -14,\n",
       " -2,\n",
       " 8,\n",
       " 15,\n",
       " 22,\n",
       " 24,\n",
       " 39,\n",
       " 50712,\n",
       " 52274,\n",
       " 55486,\n",
       " 67567,\n",
       " 83534,\n",
       " 84648,\n",
       " 93287,\n",
       " 94656]"
      ]
     },
     "execution_count": 59,
     "metadata": {},
     "output_type": "execute_result"
    }
   ],
   "source": [
    "def bucket_sort(a):\n",
    "    bucket_length = 10\n",
    "    bucket_positive = [[]]*bucket_length\n",
    "    bucket_negative = [[]]*bucket_length\n",
    "    ldn = largest_digit_number(a)\n",
    "    num = 0.0\n",
    "    res = []\n",
    "    for i in range(len(a)):\n",
    "        num = a[i]/math.pow(bucket_length,ldn-1)\n",
    "        if num < 0:\n",
    "            if not bucket_negative[int(abs(num))]:\n",
    "                bucket_negative[int(abs(num))] = [a[i]]\n",
    "            else: \n",
    "                bucket_negative[int(abs(num))] += [a[i]] \n",
    "        else:\n",
    "            if not bucket_positive[int(abs(num))]:\n",
    "                bucket_positive[int(abs(num))] = [a[i]]\n",
    "            else: \n",
    "                bucket_positive[int(abs(num))] += [a[i]]\n",
    "    for i in range(bucket_length):\n",
    "        if bucket_negative[i]:\n",
    "            bucket_negative[i] = counting_sort(bucket_negative[i])\n",
    "        if bucket_positive[i]:\n",
    "            bucket_positive[i] = counting_sort(bucket_positive[i])\n",
    "    bucket_negative.reverse() \n",
    "    res = sum(bucket_negative, []) + sum(bucket_positive, [])\n",
    "    return res\n",
    "    \n",
    "#bucket_sort([-2, -4, -8, -16])\n",
    "bucket_sort(arr[:20])\n",
    "        "
   ]
  },
  {
   "cell_type": "code",
   "execution_count": 22,
   "metadata": {},
   "outputs": [
    {
     "name": "stdout",
     "output_type": "stream",
     "text": [
      "Exists!\n"
     ]
    }
   ],
   "source": [
    "arr = [[]]*10\n",
    "if not arr[0]:\n",
    "    arr[0] = [14]\n",
    "else:\n",
    "    arr[0] += [14]\n",
    "arr\n",
    "\n",
    "arr[0] += [17]\n",
    "if arr[0]:\n",
    "    print(\"Exists!\")"
   ]
  },
  {
   "cell_type": "code",
   "execution_count": 55,
   "metadata": {},
   "outputs": [
    {
     "data": {
      "text/plain": [
       "[None, [], [], [], [], None, None, [], None, None]"
      ]
     },
     "execution_count": 55,
     "metadata": {},
     "output_type": "execute_result"
    }
   ],
   "source": []
  },
  {
   "cell_type": "code",
   "execution_count": 57,
   "metadata": {},
   "outputs": [
    {
     "data": {
      "text/plain": [
       "[93287, 94656, 83534, 84648, 67567, 50712, 52274, 55486]"
      ]
     },
     "execution_count": 57,
     "metadata": {},
     "output_type": "execute_result"
    }
   ],
   "source": [
    "k = [[8, 15, 22, 24, 39], [], [], [], [], [50712, 52274, 55486], [67567], [], [83534, 84648], [93287, 94656]]\n",
    "res = []\n",
    "for i in range(len(k)-1, 0, -1):\n",
    "    if k[i]:\n",
    "        res += k[i]\n",
    "res"
   ]
  },
  {
   "cell_type": "markdown",
   "metadata": {},
   "source": [
    "## Heap Máximo"
   ]
  },
  {
   "cell_type": "markdown",
   "metadata": {},
   "source": [
    "O valor de um nó é no máximo, igual ao valor de seu pai.\n",
    "\n",
    "A[Parent(i)] >= A[i]"
   ]
  },
  {
   "cell_type": "code",
   "execution_count": 29,
   "metadata": {},
   "outputs": [],
   "source": [
    "def parent(i):\n",
    "    if i % 2 == 0:\n",
    "        return (i // 2) -1\n",
    "    return i // 2\n",
    "    \n",
    "\n",
    "def left(i):\n",
    "    return 2*i + 1\n",
    "\n",
    "def right(i):\n",
    "    return 2*i + 2\n",
    "\n",
    "def max_heapify(A, tamanho_heap, i):\n",
    "    maior = 0\n",
    "    l = left(i)\n",
    "    r = right(i)\n",
    "    \n",
    "    if l < tamanho_heap and A[l] > A[i]:\n",
    "        maior = l\n",
    "    else:\n",
    "        maior = i\n",
    "    \n",
    "    if r < tamanho_heap and A[r] > A[maior]:\n",
    "        maior = r\n",
    "        \n",
    "    if maior != i:\n",
    "        A[i], A[maior] = A[maior], A[i]\n",
    "        max_heapify(A, tamanho_heap, maior)\n",
    "        \n",
    "def build_max_heap(A):\n",
    "    for i in range(len(A)//2 -1, -1, -1):\n",
    "        max_heapify(A, len(A), i)"
   ]
  },
  {
   "cell_type": "code",
   "execution_count": null,
   "metadata": {},
   "outputs": [],
   "source": []
  },
  {
   "cell_type": "code",
   "execution_count": 30,
   "metadata": {},
   "outputs": [],
   "source": [
    "def heap_sort(A):\n",
    "    build_max_heap(A)\n",
    "    for i in range(len(A)-1, 0, -1):\n",
    "        A[i], A[0] = A[0], A[i]\n",
    "        max_heapify(A, i, 0)"
   ]
  },
  {
   "cell_type": "code",
   "execution_count": 31,
   "metadata": {},
   "outputs": [
    {
     "data": {
      "text/plain": [
       "[1, 2, 3, 4, 7, 8, 9, 10, 14, 16]"
      ]
     },
     "execution_count": 31,
     "metadata": {},
     "output_type": "execute_result"
    }
   ],
   "source": [
    "A = [16, 4, 10, 14, 7, 9, 3, 2, 8, 1]\n",
    "heap_sort(A)\n",
    "A"
   ]
  },
  {
   "cell_type": "code",
   "execution_count": 33,
   "metadata": {},
   "outputs": [
    {
     "data": {
      "text/plain": [
       "array([  -50,   -50,   -50,   -49,   -49,   -49,   -49,   -49,   -49,\n",
       "         -49,   -48,   -48,   -48,   -48,   -48,   -48,   -48,   -48,\n",
       "         -47,   -47,   -47,   -47,   -47,   -47,   -47,   -47,   -47,\n",
       "         -46,   -46,   -46,   -46,   -46,   -45,   -45,   -45,   -45,\n",
       "         -45,   -45,   -45,   -44,   -43,   -43,   -42,   -42,   -42,\n",
       "         -42,   -42,   -41,   -41,   -41,   -41,   -41,   -40,   -40,\n",
       "         -40,   -40,   -39,   -39,   -39,   -39,   -39,   -39,   -38,\n",
       "         -38,   -38,   -38,   -38,   -38,   -37,   -37,   -37,   -37,\n",
       "         -37,   -37,   -37,   -36,   -36,   -36,   -36,   -36,   -36,\n",
       "         -36,   -36,   -35,   -35,   -34,   -34,   -34,   -34,   -33,\n",
       "         -33,   -33,   -33,   -32,   -32,   -30,   -30,   -30,   -30,\n",
       "         -30,   -30,   -30,   -29,   -29,   -29,   -29,   -29,   -29,\n",
       "         -29,   -29,   -28,   -28,   -27,   -27,   -27,   -27,   -27,\n",
       "         -26,   -26,   -26,   -26,   -25,   -25,   -25,   -25,   -25,\n",
       "         -24,   -24,   -24,   -24,   -24,   -24,   -23,   -23,   -23,\n",
       "         -23,   -23,   -23,   -22,   -22,   -22,   -22,   -22,   -22,\n",
       "         -22,   -21,   -21,   -21,   -21,   -21,   -21,   -21,   -20,\n",
       "         -20,   -20,   -20,   -19,   -19,   -19,   -19,   -19,   -19,\n",
       "         -18,   -18,   -18,   -18,   -18,   -18,   -18,   -18,   -17,\n",
       "         -17,   -16,   -16,   -16,   -16,   -16,   -16,   -16,   -15,\n",
       "         -15,   -15,   -14,   -14,   -13,   -13,   -13,   -13,   -13,\n",
       "         -13,   -13,   -13,   -13,   -13,   -12,   -12,   -12,   -12,\n",
       "         -11,   -11,   -11,   -11,   -11,   -11,   -10,   -10,   -10,\n",
       "         -10,   -10,   -10,   -10,    -9,    -9,    -9,    -9,    -9,\n",
       "          -9,    -8,    -8,    -8,    -8,    -7,    -7,    -7,    -7,\n",
       "          -7,    -7,    -6,    -6,    -6,    -6,    -6,    -6,    -5,\n",
       "          -5,    -5,    -4,    -4,    -4,    -4,    -3,    -3,    -3,\n",
       "          -2,    -2,    -2,    -2,    -2,    -2,    -2,    -1,    -1,\n",
       "          -1,    -1,    -1,     0,     0,     0,     0,     0,     0,\n",
       "           1,     1,     1,     1,     1,     2,     2,     2,     3,\n",
       "           3,     3,     3,     3,     3,     4,     4,     4,     4,\n",
       "           4,     4,     5,     5,     5,     5,     6,     6,     7,\n",
       "           7,     7,     7,     7,     7,     7,     7,     8,     8,\n",
       "           8,     8,     8,     8,     8,    10,    10,    10,    10,\n",
       "          11,    11,    11,    12,    12,    12,    12,    12,    13,\n",
       "          13,    13,    13,    13,    13,    14,    14,    14,    14,\n",
       "          14,    14,    14,    14,    15,    15,    15,    15,    15,\n",
       "          16,    16,    16,    17,    17,    17,    18,    18,    18,\n",
       "          18,    18,    19,    19,    19,    19,    19,    19,    19,\n",
       "          19,    20,    20,    20,    20,    20,    20,    20,    20,\n",
       "          20,    20,    20,    21,    21,    21,    22,    22,    22,\n",
       "          22,    22,    22,    22,    23,    23,    23,    23,    23,\n",
       "          24,    24,    24,    24,    24,    25,    25,    25,    25,\n",
       "          25,    25,    25,    25,    26,    26,    26,    26,    26,\n",
       "          27,    27,    27,    27,    28,    28,    28,    28,    28,\n",
       "          28,    29,    29,    29,    29,    30,    30,    30,    31,\n",
       "          32,    32,    32,    32,    33,    33,    33,    33,    33,\n",
       "          34,    34,    34,    34,    34,    35,    35,    35,    35,\n",
       "          36,    36,    36,    36,    36,    36,    36,    37,    37,\n",
       "          37,    38,    38,    39,    39,    39,    40,    40,    40,\n",
       "          41,    41,    41,    41,    42,    42,    42,    42,    42,\n",
       "          42,    42,    43,    43,    43,    44,    44,    44,    45,\n",
       "          45,    45,    45,    46,    46,    46,    47,    47,    47,\n",
       "          47,    47,    47,    48,    48,    48,    48,    49,    49,\n",
       "          49,    49,    49,    49,    50,    50,    50,    50,    50,\n",
       "          50,    50,    50,    50,    50, 50055, 50230, 50253, 50262,\n",
       "       50490, 50649, 50663, 50712, 50866, 51239, 51293, 51361, 51378,\n",
       "       51409, 51525, 51582, 51599, 52001, 52019, 52081, 52274, 52667,\n",
       "       52947, 52974, 53158, 53182, 53259, 53416, 53626, 54084, 54221,\n",
       "       54390, 54439, 54471, 54492, 54571, 54647, 54689, 54740, 54753,\n",
       "       54811, 54907, 54923, 54927, 55053, 55374, 55486, 55568, 55848,\n",
       "       55924, 56098, 56241, 56463, 56551, 56614, 56622, 56972, 57004,\n",
       "       57087, 57411, 57591, 57737, 57737, 57739, 57811, 57982, 58076,\n",
       "       58119, 58200, 58277, 58279, 58951, 59050, 59062, 59076, 59084,\n",
       "       59117, 59275, 59285, 59711, 59726, 59801, 59966, 60104, 60209,\n",
       "       60229, 60347, 60450, 60592, 60651, 60756, 60797, 60800, 60825,\n",
       "       60854, 61008, 61046, 61116, 61161, 61240, 61283, 61295, 61317,\n",
       "       61328, 61353, 61552, 61637, 61675, 61675, 61768, 62239, 62441,\n",
       "       62445, 62934, 63033, 63136, 63359, 63363, 63423, 63463, 63512,\n",
       "       63540, 63548, 63612, 63689, 63693, 63894, 64192, 64261, 64383,\n",
       "       64553, 64569, 64749, 64793, 64917, 65211, 65284, 65304, 65547,\n",
       "       65622, 65760, 65793, 65875, 66005, 66206, 66228, 66267, 66280,\n",
       "       66398, 66423, 66441, 66553, 66723, 66906, 66958, 66981, 66996,\n",
       "       67008, 67065, 67169, 67339, 67532, 67567, 67633, 67635, 67679,\n",
       "       67711, 67748, 67906, 67994, 68037, 68074, 68147, 68194, 68197,\n",
       "       68615, 68663, 69059, 69063, 69234, 69364, 69425, 69456, 69576,\n",
       "       69590, 69632, 69901, 69949, 69975, 70010, 70020, 70029, 70300,\n",
       "       70390, 70398, 70434, 70511, 70713, 70744, 70790, 70957, 71061,\n",
       "       71213, 71329, 71501, 71603, 71885, 72020, 72082, 72195, 72240,\n",
       "       72442, 72805, 72901, 72951, 73261, 73276, 73321, 73384, 73393,\n",
       "       73539, 73555, 73664, 74130, 74162, 74354, 74492, 74720, 74743,\n",
       "       74765, 74828, 75057, 75060, 75117, 75164, 75504, 75726, 75795,\n",
       "       75933, 76018, 76033, 76038, 76070, 76175, 76195, 76195, 76263,\n",
       "       76285, 76340, 76384, 76558, 76673, 76753, 76801, 76944, 77016,\n",
       "       77307, 77522, 77695, 77909, 77967, 78191, 78263, 78296, 78353,\n",
       "       78371, 78650, 78713, 78725, 78755, 78796, 78880, 78985, 78987,\n",
       "       78998, 79070, 79167, 79255, 79274, 79451, 79461, 79479, 79708,\n",
       "       80106, 80250, 80282, 80459, 80612, 80666, 80725, 81380, 81694,\n",
       "       81755, 81836, 81850, 81979, 82165, 82263, 82267, 82289, 82326,\n",
       "       82404, 82441, 82442, 82445, 82792, 82826, 82861, 82966, 83237,\n",
       "       83375, 83441, 83444, 83486, 83522, 83530, 83534, 83682, 83708,\n",
       "       83754, 83876, 84288, 84352, 84484, 84510, 84609, 84626, 84628,\n",
       "       84638, 84648, 84796, 84999, 85225, 85262, 85343, 85479, 85542,\n",
       "       85666, 85667, 85735, 85741, 85749, 85996, 86123, 86196, 86238,\n",
       "       86453, 86496, 86546, 86659, 86726, 86768, 86967, 87310, 87323,\n",
       "       87391, 87395, 87436, 87448, 87524, 87950, 87954, 87968, 88015,\n",
       "       88104, 88301, 88386, 88707, 88898, 88966, 89158, 89201, 89366,\n",
       "       89376, 89445, 89648, 89679, 89690, 89721, 89731, 89955, 89973,\n",
       "       90003, 90061, 90137, 90185, 90189, 90429, 90634, 90738, 90789,\n",
       "       90793, 90863, 91018, 91125, 91186, 91239, 91266, 91532, 91640,\n",
       "       91650, 91679, 91744, 91884, 91966, 92289, 92363, 92365, 92445,\n",
       "       92516, 92522, 92558, 92799, 92821, 93046, 93174, 93235, 93287,\n",
       "       93308, 93445, 93597, 93763, 93833, 94053, 94165, 94385, 94469,\n",
       "       94656, 94671, 94700, 94780, 94788, 94795, 94894, 94991, 94998,\n",
       "       95019, 95148, 95193, 95249, 95331, 95387, 95392, 95822, 95842,\n",
       "       95901, 95958, 95959, 96064, 96132, 96313, 96400, 96486, 96546,\n",
       "       96670, 96717, 96755, 96846, 96907, 96927, 96999, 97052, 97065,\n",
       "       97086, 97159, 97270, 97335, 97358, 97445, 97468, 97724, 97726,\n",
       "       97735, 97786, 97834, 97915, 97934, 97993, 98092, 98174, 98261,\n",
       "       98282, 98293, 98402, 98486, 98800, 98807, 98874, 98901, 98972,\n",
       "       99071, 99124, 99199, 99242, 99311, 99638, 99659, 99716, 99877,\n",
       "       99911])"
      ]
     },
     "execution_count": 33,
     "metadata": {},
     "output_type": "execute_result"
    }
   ],
   "source": [
    "heap_sort(arr)\n",
    "arr"
   ]
  },
  {
   "cell_type": "code",
   "execution_count": null,
   "metadata": {},
   "outputs": [],
   "source": []
  }
 ],
 "metadata": {
  "kernelspec": {
   "display_name": "Python 3",
   "language": "python",
   "name": "python3"
  },
  "language_info": {
   "codemirror_mode": {
    "name": "ipython",
    "version": 3
   },
   "file_extension": ".py",
   "mimetype": "text/x-python",
   "name": "python",
   "nbconvert_exporter": "python",
   "pygments_lexer": "ipython3",
   "version": "3.8.2"
  }
 },
 "nbformat": 4,
 "nbformat_minor": 4
}
