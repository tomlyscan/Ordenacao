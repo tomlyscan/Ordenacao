{
 "cells": [
  {
   "cell_type": "code",
   "execution_count": 67,
   "metadata": {},
   "outputs": [],
   "source": [
    "import numpy as np\n",
    "import math"
   ]
  },
  {
   "cell_type": "code",
   "execution_count": 68,
   "metadata": {},
   "outputs": [
    {
     "name": "stdout",
     "output_type": "stream",
     "text": [
      "[10, 9, 8, 7, 6, 5, 4, 3, 2, 1]\n",
      "[10, 9, 8, 7, 6]\n",
      "[5, 4, 3, 2, 1]\n",
      "[1, 2, 3, 4, 5, 6, 7, 8, 9]\n",
      "[1, 2, 3, 4]\n",
      "[5, 6, 7, 8, 9]\n"
     ]
    }
   ],
   "source": [
    "# Divisao de um array\n",
    "\n",
    "A = [10, 9, 8, 7, 6, 5, 4, 3, 2, 1]\n",
    "print(A)\n",
    "print(A[:int(len(A)/2)])\n",
    "print(A[int(len(A)/2):])\n",
    "\n",
    "B = [1, 2, 3, 4, 5, 6, 7, 8, 9]\n",
    "print(B)\n",
    "print(B[:int(len(B)/2)])\n",
    "print(B[int(len(B)/2):])"
   ]
  },
  {
   "cell_type": "code",
   "execution_count": 69,
   "metadata": {},
   "outputs": [
    {
     "name": "stdout",
     "output_type": "stream",
     "text": [
      "[10, 9, 8, 7, 6, inf]\n",
      "[5, 4, 3, 2, 1, inf]\n"
     ]
    }
   ],
   "source": [
    "# Criando a funcao merge\n",
    "\n",
    "begin = 0\n",
    "middle = int(len(A)/2)\n",
    "end = len(A)\n",
    "\n",
    "left = A[begin:middle] + [math.inf]\n",
    "right = A[middle:end] + [math.inf]\n",
    "print(left)\n",
    "print(right)"
   ]
  },
  {
   "cell_type": "code",
   "execution_count": 5,
   "metadata": {},
   "outputs": [],
   "source": [
    "def merge(A, L, R):\n",
    "    i = j = k = 0\n",
    "    while i < len(L) and j < len(R):\n",
    "        if L[i] < R[j]:\n",
    "            A[k] = L[i]\n",
    "            i += 1\n",
    "        else:\n",
    "            A[k] = R[j]\n",
    "            j += 1\n",
    "        k += 1\n",
    "        \n",
    "    while i < len(L):\n",
    "        A[k] = L[i]\n",
    "        i += 1\n",
    "        k += 1\n",
    "        \n",
    "    while j < len(R):\n",
    "        A[k] = R[j]\n",
    "        j += 1\n",
    "        k += 1"
   ]
  },
  {
   "cell_type": "code",
   "execution_count": 6,
   "metadata": {},
   "outputs": [],
   "source": [
    "def merge_sort(A):    \n",
    "    if len(A) > 1:\n",
    "        q = len(A)//2            # Divisao inteira\n",
    "        L = A[:q]\n",
    "        R = A[q:]       \n",
    "        \n",
    "        merge_sort(L)\n",
    "        merge_sort(R)\n",
    "        merge(A, L, R)\n",
    "    return A"
   ]
  },
  {
   "cell_type": "code",
   "execution_count": 8,
   "metadata": {},
   "outputs": [
    {
     "name": "stdout",
     "output_type": "stream",
     "text": [
      "[10, 10, 10, 10, 10, 10, 10, 10, 10, 10, 70, -12, 7, 14, 5, 81, 0, 800, -764, 9, 8, -5, 6, 3, -77, 8, 99]\n",
      "[-764, -77, -12, -5, 0, 3, 5, 6, 7, 8, 8, 9, 10, 10, 10, 10, 10, 10, 10, 10, 10, 10, 14, 70, 81, 99, 800]\n"
     ]
    }
   ],
   "source": [
    "K = [10, 10, 10, 10, 10, 10, 10, 10, 10, 10, 70, -12, 7, 14, 5, 81, 0, 800, -764,9,8,-5,6,3,-77,8,99]\n",
    "print(K)\n",
    "merge_sort(K)\n",
    "print(K)"
   ]
  },
  {
   "cell_type": "code",
   "execution_count": 74,
   "metadata": {},
   "outputs": [
    {
     "name": "stdout",
     "output_type": "stream",
     "text": [
      "1000\n"
     ]
    }
   ],
   "source": [
    "import pandas as pd\n",
    "data = pd.read_csv('instancias-num/num.1000.1.in')\n",
    "arr = data.to_numpy().ravel()\n",
    "print(len(arr))\n"
   ]
  },
  {
   "cell_type": "code",
   "execution_count": null,
   "metadata": {},
   "outputs": [],
   "source": []
  },
  {
   "cell_type": "code",
   "execution_count": 4,
   "metadata": {},
   "outputs": [
    {
     "name": "stdout",
     "output_type": "stream",
     "text": [
      "['b', 'c', 3, 4, 5, 6]\n",
      "[1, 2, 'a']\n"
     ]
    }
   ],
   "source": [
    "lista = [1,2,\"a\",\"b\",\"c\",3,4,5,6]\n",
    "print(lista[3:])\n",
    "print(lista[:3])\n"
   ]
  },
  {
   "cell_type": "markdown",
   "metadata": {},
   "source": [
    "## Algoritmo Counting sort"
   ]
  },
  {
   "cell_type": "markdown",
   "metadata": {},
   "source": [
    "1. Encontra o maior valor da lista a ser ordenada\n",
    "   [8, 10, 12, 4, 7, 3, 0] maior = 12\n",
    "   \n",
    "2. Cria um array para contagem com maior+1 posições"
   ]
  },
  {
   "cell_type": "code",
   "execution_count": 63,
   "metadata": {},
   "outputs": [
    {
     "name": "stdout",
     "output_type": "stream",
     "text": [
      "Maior valor da lista:  10\n",
      "Menor valor da lista:  -3\n"
     ]
    }
   ],
   "source": [
    "# Encontrando o maximo e minimo valor em uma lista:\n",
    "a = [1, -2, 2, 0, 3, 4, 5, 10, -3, -1]\n",
    "print('Maior valor da lista: ', max(a))\n",
    "print('Menor valor da lista: ', min(a))"
   ]
  },
  {
   "cell_type": "code",
   "execution_count": 64,
   "metadata": {},
   "outputs": [
    {
     "name": "stdout",
     "output_type": "stream",
     "text": [
      "Lista contador:    [0, 0, 0, 0, 0, 0, 0, 0, 0, 0, 0, 0, 0, 0]\n",
      "Lista de indices:  [-3, -2, -1, 0, 1, 2, 3, 4, 5, 6, 7, 8, 9, 10]\n"
     ]
    }
   ],
   "source": [
    "# Criar uma lista de tamanho fixo inicializado com 0:\n",
    "contador = max(a) + abs(min(a)) + 1\n",
    "pos_zero = abs(min(a))\n",
    "\n",
    "lista_contador = [0]*contador\n",
    "print('Lista contador:   ', lista_contador)\n",
    "print('Lista de indices: ', [i for i in range(min(a),max(a)+1)])"
   ]
  },
  {
   "cell_type": "code",
   "execution_count": 65,
   "metadata": {},
   "outputs": [
    {
     "name": "stdout",
     "output_type": "stream",
     "text": [
      "Lista contador:    [1, 1, 1, 1, 1, 1, 1, 1, 1, 0, 0, 0, 0, 1]\n",
      "Lista de indices:  [-3, -2, -1, 0, 1, 2, 3, 4, 5, 6, 7, 8, 9, 10]\n"
     ]
    }
   ],
   "source": [
    "# Incrementar as posicoes de lista_contador com os elementos da lista a ser ordenada\n",
    "for i in range(len(a)):\n",
    "    if a[i] == 0:\n",
    "        lista_contador[pos_zero] += 1\n",
    "    elif a[i] > 0:\n",
    "        lista_contador[pos_zero + a[i]] += 1\n",
    "    elif a[i] < 0:\n",
    "        lista_contador[pos_zero + a[i]] += 1\n",
    "    \n",
    "        \n",
    "print('Lista contador:   ', lista_contador)\n",
    "print('Lista de indices: ', [i for i in range(min(a),max(a)+1)])        "
   ]
  },
  {
   "cell_type": "code",
   "execution_count": 67,
   "metadata": {},
   "outputs": [
    {
     "data": {
      "text/plain": [
       "[-3, -2, -1, 0, 1, 2, 3, 4, 5, 10]"
      ]
     },
     "execution_count": 67,
     "metadata": {},
     "output_type": "execute_result"
    }
   ],
   "source": [
    "# Ler a lista_contador e gerar a lista ordenada\n",
    "ordenada = []\n",
    "for i in range(len(lista_contador)):\n",
    "    if lista_contador[i] > 0:\n",
    "        for j in range(lista_contador[i]):\n",
    "            if i < pos_zero:\n",
    "                ordenada += [i - pos_zero]\n",
    "            elif i == pos_zero:\n",
    "                ordenada += [0]\n",
    "            elif i > pos_zero:\n",
    "                ordenada += [i - pos_zero]\n",
    "        \n",
    "ordenada"
   ]
  },
  {
   "cell_type": "code",
   "execution_count": 69,
   "metadata": {},
   "outputs": [],
   "source": [
    "# Criando a funcao counting sort:\n",
    "def counting_sort(a):\n",
    "    ordenada = []\n",
    "    contador = max(a) + abs(min(a)) + 1\n",
    "    pos_zero = abs(min(a))\n",
    "    lista_contador = [0]*contador\n",
    "    for i in range(len(a)):\n",
    "        if a[i] == 0:\n",
    "            lista_contador[pos_zero] += 1\n",
    "        else:\n",
    "            lista_contador[pos_zero + a[i]] += 1\n",
    "    for i in range(len(lista_contador)):\n",
    "        if lista_contador[i] > 0:\n",
    "            for j in range(lista_contador[i]):\n",
    "                if i == pos_zero:\n",
    "                    ordenada += [0]\n",
    "                else:\n",
    "                    ordenada += [i - pos_zero]\n",
    "    return ordenada    "
   ]
  },
  {
   "cell_type": "code",
   "execution_count": 71,
   "metadata": {},
   "outputs": [
    {
     "name": "stdout",
     "output_type": "stream",
     "text": [
      "[-3, -2, -1, 0, 1, 2, 3, 4, 5, 10]\n"
     ]
    }
   ],
   "source": [
    "# Testando counting sort:\n",
    "print(counting_sort(a))"
   ]
  },
  {
   "cell_type": "code",
   "execution_count": null,
   "metadata": {},
   "outputs": [],
   "source": []
  },
  {
   "cell_type": "code",
   "execution_count": null,
   "metadata": {},
   "outputs": [],
   "source": []
  }
 ],
 "metadata": {
  "kernelspec": {
   "display_name": "Python 3",
   "language": "python",
   "name": "python3"
  },
  "language_info": {
   "codemirror_mode": {
    "name": "ipython",
    "version": 3
   },
   "file_extension": ".py",
   "mimetype": "text/x-python",
   "name": "python",
   "nbconvert_exporter": "python",
   "pygments_lexer": "ipython3",
   "version": "3.6.9"
  }
 },
 "nbformat": 4,
 "nbformat_minor": 4
}
