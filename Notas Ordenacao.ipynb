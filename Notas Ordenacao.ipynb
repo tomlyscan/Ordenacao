{
 "cells": [
  {
   "cell_type": "code",
   "execution_count": 67,
   "metadata": {},
   "outputs": [],
   "source": [
    "import numpy as np\n",
    "import math"
   ]
  },
  {
   "cell_type": "code",
   "execution_count": 68,
   "metadata": {},
   "outputs": [
    {
     "name": "stdout",
     "output_type": "stream",
     "text": [
      "[10, 9, 8, 7, 6, 5, 4, 3, 2, 1]\n",
      "[10, 9, 8, 7, 6]\n",
      "[5, 4, 3, 2, 1]\n",
      "[1, 2, 3, 4, 5, 6, 7, 8, 9]\n",
      "[1, 2, 3, 4]\n",
      "[5, 6, 7, 8, 9]\n"
     ]
    }
   ],
   "source": [
    "# Divisao de um array\n",
    "\n",
    "A = [10, 9, 8, 7, 6, 5, 4, 3, 2, 1]\n",
    "print(A)\n",
    "print(A[:int(len(A)/2)])\n",
    "print(A[int(len(A)/2):])\n",
    "\n",
    "B = [1, 2, 3, 4, 5, 6, 7, 8, 9]\n",
    "print(B)\n",
    "print(B[:int(len(B)/2)])\n",
    "print(B[int(len(B)/2):])"
   ]
  },
  {
   "cell_type": "code",
   "execution_count": 69,
   "metadata": {},
   "outputs": [
    {
     "name": "stdout",
     "output_type": "stream",
     "text": [
      "[10, 9, 8, 7, 6, inf]\n",
      "[5, 4, 3, 2, 1, inf]\n"
     ]
    }
   ],
   "source": [
    "# Criando a funcao merge\n",
    "\n",
    "begin = 0\n",
    "middle = int(len(A)/2)\n",
    "end = len(A)\n",
    "\n",
    "left = A[begin:middle] + [math.inf]\n",
    "right = A[middle:end] + [math.inf]\n",
    "print(left)\n",
    "print(right)"
   ]
  },
  {
   "cell_type": "code",
   "execution_count": 5,
   "metadata": {},
   "outputs": [],
   "source": [
    "def merge(A, L, R):\n",
    "    i = j = k = 0\n",
    "    while i < len(L) and j < len(R):\n",
    "        if L[i] < R[j]:\n",
    "            A[k] = L[i]\n",
    "            i += 1\n",
    "        else:\n",
    "            A[k] = R[j]\n",
    "            j += 1\n",
    "        k += 1\n",
    "        \n",
    "    while i < len(L):\n",
    "        A[k] = L[i]\n",
    "        i += 1\n",
    "        k += 1\n",
    "        \n",
    "    while j < len(R):\n",
    "        A[k] = R[j]\n",
    "        j += 1\n",
    "        k += 1"
   ]
  },
  {
   "cell_type": "code",
   "execution_count": 6,
   "metadata": {},
   "outputs": [],
   "source": [
    "def merge_sort(A):    \n",
    "    if len(A) > 1:\n",
    "        q = len(A)//2            # Divisao inteira\n",
    "        L = A[:q]\n",
    "        R = A[q:]       \n",
    "        \n",
    "        merge_sort(L)\n",
    "        merge_sort(R)\n",
    "        merge(A, L, R)\n",
    "    return A"
   ]
  },
  {
   "cell_type": "code",
   "execution_count": 8,
   "metadata": {},
   "outputs": [
    {
     "name": "stdout",
     "output_type": "stream",
     "text": [
      "[10, 10, 10, 10, 10, 10, 10, 10, 10, 10, 70, -12, 7, 14, 5, 81, 0, 800, -764, 9, 8, -5, 6, 3, -77, 8, 99]\n",
      "[-764, -77, -12, -5, 0, 3, 5, 6, 7, 8, 8, 9, 10, 10, 10, 10, 10, 10, 10, 10, 10, 10, 14, 70, 81, 99, 800]\n"
     ]
    }
   ],
   "source": [
    "K = [10, 10, 10, 10, 10, 10, 10, 10, 10, 10, 70, -12, 7, 14, 5, 81, 0, 800, -764,9,8,-5,6,3,-77,8,99]\n",
    "print(K)\n",
    "merge_sort(K)\n",
    "print(K)"
   ]
  },
  {
   "cell_type": "code",
   "execution_count": 30,
   "metadata": {},
   "outputs": [
    {
     "name": "stdout",
     "output_type": "stream",
     "text": [
      "1000\n"
     ]
    }
   ],
   "source": [
    "import pandas as pd\n",
    "data = pd.read_csv('instancias-num/num.1000.1.in')\n",
    "arr = data.to_numpy().ravel()\n",
    "print(len(arr))\n"
   ]
  },
  {
   "cell_type": "code",
   "execution_count": null,
   "metadata": {},
   "outputs": [],
   "source": []
  },
  {
   "cell_type": "code",
   "execution_count": 4,
   "metadata": {},
   "outputs": [
    {
     "name": "stdout",
     "output_type": "stream",
     "text": [
      "['b', 'c', 3, 4, 5, 6]\n",
      "[1, 2, 'a']\n"
     ]
    }
   ],
   "source": [
    "lista = [1,2,\"a\",\"b\",\"c\",3,4,5,6]\n",
    "print(lista[3:])\n",
    "print(lista[:3])\n"
   ]
  },
  {
   "cell_type": "markdown",
   "metadata": {},
   "source": [
    "## Algoritmo Counting sort"
   ]
  },
  {
   "cell_type": "markdown",
   "metadata": {},
   "source": [
    "1. Encontra o maior valor da lista a ser ordenada\n",
    "   [8, 10, 12, 4, 7, 3, 0] maior = 12\n",
    "   \n",
    "2. Cria um array para contagem com maior+1 posições"
   ]
  },
  {
   "cell_type": "code",
   "execution_count": 63,
   "metadata": {},
   "outputs": [
    {
     "name": "stdout",
     "output_type": "stream",
     "text": [
      "Maior valor da lista:  10\n",
      "Menor valor da lista:  -3\n"
     ]
    }
   ],
   "source": [
    "# Encontrando o maximo e minimo valor em uma lista:\n",
    "a = [1, -2, 2, 0, 3, 4, 5, 10, -3, -1]\n",
    "print('Maior valor da lista: ', max(a))\n",
    "print('Menor valor da lista: ', min(a))"
   ]
  },
  {
   "cell_type": "code",
   "execution_count": 64,
   "metadata": {},
   "outputs": [
    {
     "name": "stdout",
     "output_type": "stream",
     "text": [
      "Lista contador:    [0, 0, 0, 0, 0, 0, 0, 0, 0, 0, 0, 0, 0, 0]\n",
      "Lista de indices:  [-3, -2, -1, 0, 1, 2, 3, 4, 5, 6, 7, 8, 9, 10]\n"
     ]
    }
   ],
   "source": [
    "# Criar uma lista de tamanho fixo inicializado com 0:\n",
    "contador = max(a) + abs(min(a)) + 1\n",
    "pos_zero = abs(min(a))\n",
    "\n",
    "lista_contador = [0]*contador\n",
    "print('Lista contador:   ', lista_contador)\n",
    "print('Lista de indices: ', [i for i in range(min(a),max(a)+1)])"
   ]
  },
  {
   "cell_type": "code",
   "execution_count": 65,
   "metadata": {},
   "outputs": [
    {
     "name": "stdout",
     "output_type": "stream",
     "text": [
      "Lista contador:    [1, 1, 1, 1, 1, 1, 1, 1, 1, 0, 0, 0, 0, 1]\n",
      "Lista de indices:  [-3, -2, -1, 0, 1, 2, 3, 4, 5, 6, 7, 8, 9, 10]\n"
     ]
    }
   ],
   "source": [
    "# Incrementar as posicoes de lista_contador com os elementos da lista a ser ordenada\n",
    "for i in range(len(a)):\n",
    "    if a[i] == 0:\n",
    "        lista_contador[pos_zero] += 1\n",
    "    elif a[i] > 0:\n",
    "        lista_contador[pos_zero + a[i]] += 1\n",
    "    elif a[i] < 0:\n",
    "        lista_contador[pos_zero + a[i]] += 1\n",
    "    \n",
    "        \n",
    "print('Lista contador:   ', lista_contador)\n",
    "print('Lista de indices: ', [i for i in range(min(a),max(a)+1)])        "
   ]
  },
  {
   "cell_type": "code",
   "execution_count": 67,
   "metadata": {},
   "outputs": [
    {
     "data": {
      "text/plain": [
       "[-3, -2, -1, 0, 1, 2, 3, 4, 5, 10]"
      ]
     },
     "execution_count": 67,
     "metadata": {},
     "output_type": "execute_result"
    }
   ],
   "source": [
    "# Ler a lista_contador e gerar a lista ordenada\n",
    "ordenada = []\n",
    "for i in range(len(lista_contador)):\n",
    "    if lista_contador[i] > 0:\n",
    "        for j in range(lista_contador[i]):\n",
    "            if i < pos_zero:\n",
    "                ordenada += [i - pos_zero]\n",
    "            elif i == pos_zero:\n",
    "                ordenada += [0]\n",
    "            elif i > pos_zero:\n",
    "                ordenada += [i - pos_zero]\n",
    "        \n",
    "ordenada"
   ]
  },
  {
   "cell_type": "code",
   "execution_count": 18,
   "metadata": {},
   "outputs": [],
   "source": [
    "# Criando a funcao counting sort:\n",
    "def counting_sort(a):\n",
    "    ordenada = []\n",
    "    contador = max(a) + abs(min(a)) + 1\n",
    "    pos_zero = abs(min(a))\n",
    "    lista_contador = [0]*contador\n",
    "    for i in range(len(a)):\n",
    "        if a[i] == 0:\n",
    "            lista_contador[pos_zero] += 1\n",
    "        else:\n",
    "            lista_contador[pos_zero + a[i]] += 1\n",
    "    for i in range(len(lista_contador)):\n",
    "        if lista_contador[i] > 0:\n",
    "            for j in range(lista_contador[i]):\n",
    "                if i == pos_zero:\n",
    "                    ordenada += [0]\n",
    "                else:\n",
    "                    ordenada += [i - pos_zero]\n",
    "    return ordenada    "
   ]
  },
  {
   "cell_type": "code",
   "execution_count": 71,
   "metadata": {},
   "outputs": [
    {
     "name": "stdout",
     "output_type": "stream",
     "text": [
      "[-3, -2, -1, 0, 1, 2, 3, 4, 5, 10]\n"
     ]
    }
   ],
   "source": [
    "# Testando counting sort:\n",
    "print(counting_sort(a))"
   ]
  },
  {
   "cell_type": "markdown",
   "metadata": {},
   "source": [
    "## Algoritmo Radix Sort"
   ]
  },
  {
   "cell_type": "code",
   "execution_count": 3,
   "metadata": {},
   "outputs": [
    {
     "name": "stdout",
     "output_type": "stream",
     "text": [
      "Numero de digitos do menor numero:  5\n",
      "Numero de digitos do maior numero:  4\n"
     ]
    }
   ],
   "source": [
    "import math\n",
    "a = [1000, 100, 10, 1, -1, -10, -10, -100, -1000, -10000]\n",
    "\n",
    "# Calculando a quantidade de digitos do maior numero da lista em termos absolutos\n",
    "menor = abs(min(a))\n",
    "maior = abs(max(a))\n",
    "digitos_menor = int(math.log10(menor)) +1\n",
    "digitos_maior = int(math.log10(maior)) +1\n",
    "print('Numero de digitos do menor numero: ', digitos_menor)\n",
    "print('Numero de digitos do maior numero: ', digitos_maior)"
   ]
  },
  {
   "cell_type": "code",
   "execution_count": 44,
   "metadata": {},
   "outputs": [
    {
     "data": {
      "text/plain": [
       "[-1, 0, 0, 0]"
      ]
     },
     "execution_count": 44,
     "metadata": {},
     "output_type": "execute_result"
    }
   ],
   "source": [
    "# Transformando um numero em uma lista com os seus digitos\n",
    "# Entrada: numero inteiro, Saida: lista de numeros inteiros\n",
    "def number_to_list(num):\n",
    "    negative = False\n",
    "    res = []\n",
    "    for x in str(num):\n",
    "        if x == '-':\n",
    "            negative = True\n",
    "            continue\n",
    "        if negative == True:\n",
    "            res += [int(x)*-1]\n",
    "            negative = False\n",
    "            continue\n",
    "        res += [int(x)]\n",
    "    return res\n",
    "number_to_list(-1000)"
   ]
  },
  {
   "cell_type": "code",
   "execution_count": 46,
   "metadata": {},
   "outputs": [
    {
     "data": {
      "text/plain": [
       "[0, 0, 0, 0, 0, 0, -1, 0, 0, 0]"
      ]
     },
     "execution_count": 46,
     "metadata": {},
     "output_type": "execute_result"
    }
   ],
   "source": [
    "lista = [-1, 0, 0, 0]\n",
    "len_maior = 10\n",
    "\n",
    "for x in range(0, len_maior - len(lista)):\n",
    "    lista = [0] + lista\n",
    "lista"
   ]
  },
  {
   "cell_type": "code",
   "execution_count": 56,
   "metadata": {},
   "outputs": [
    {
     "data": {
      "text/html": [
       "<div>\n",
       "<style scoped>\n",
       "    .dataframe tbody tr th:only-of-type {\n",
       "        vertical-align: middle;\n",
       "    }\n",
       "\n",
       "    .dataframe tbody tr th {\n",
       "        vertical-align: top;\n",
       "    }\n",
       "\n",
       "    .dataframe thead th {\n",
       "        text-align: right;\n",
       "    }\n",
       "</style>\n",
       "<table border=\"1\" class=\"dataframe\">\n",
       "  <thead>\n",
       "    <tr style=\"text-align: right;\">\n",
       "      <th></th>\n",
       "      <th>0</th>\n",
       "      <th>1</th>\n",
       "      <th>2</th>\n",
       "      <th>3</th>\n",
       "      <th>4</th>\n",
       "      <th>5</th>\n",
       "      <th>6</th>\n",
       "      <th>7</th>\n",
       "      <th>8</th>\n",
       "      <th>9</th>\n",
       "    </tr>\n",
       "  </thead>\n",
       "  <tbody>\n",
       "    <tr>\n",
       "      <th>0</th>\n",
       "      <td>0</td>\n",
       "      <td>0</td>\n",
       "      <td>0</td>\n",
       "      <td>0</td>\n",
       "      <td>0</td>\n",
       "      <td>0</td>\n",
       "      <td>-1</td>\n",
       "      <td>0</td>\n",
       "      <td>0</td>\n",
       "      <td>0</td>\n",
       "    </tr>\n",
       "  </tbody>\n",
       "</table>\n",
       "</div>"
      ],
      "text/plain": [
       "   0  1  2  3  4  5   6  7  8  9\n",
       "0  0  0  0  0  0  0  -1  0  0  0"
      ]
     },
     "execution_count": 56,
     "metadata": {},
     "output_type": "execute_result"
    }
   ],
   "source": [
    "import pandas as pd\n",
    "\n",
    "a_row = pd.Series(lista)\n",
    "index = [x for x in range(len(lista))]\n",
    "df = pd.DataFrame(columns=index)\n",
    "df = df.append(a_row, ignore_index=True)\n",
    "df"
   ]
  },
  {
   "cell_type": "code",
   "execution_count": 5,
   "metadata": {},
   "outputs": [],
   "source": [
    "import math\n",
    "def largest_digit_number(a):\n",
    "    menor = abs(min(a))\n",
    "    maior = abs(max(a))\n",
    "    digitos_menor = int(math.log10(menor)) +1\n",
    "    digitos_maior = int(math.log10(maior)) +1\n",
    "    return digitos_maior if digitos_maior > digitos_menor else digitos_menor\n",
    "#largest_digit_number(a)"
   ]
  },
  {
   "cell_type": "code",
   "execution_count": 64,
   "metadata": {},
   "outputs": [
    {
     "data": {
      "text/plain": [
       "[1, 0, 0, -1, 0, 0, 0]"
      ]
     },
     "execution_count": 64,
     "metadata": {},
     "output_type": "execute_result"
    }
   ],
   "source": [
    "def list_to_row(num, largest_digit_number, index=1 ):\n",
    "    list = number_to_list(num)\n",
    "    for x in range(0, (largest_digit_number+1) - len(list)):\n",
    "        list = [0] + list\n",
    "    list[0] = index\n",
    "    return list\n",
    "list_to_row(-1000, 6) # Primeiro numero da lista é o índice da lista a ser ordenada e que vai servir de hash"
   ]
  },
  {
   "cell_type": "code",
   "execution_count": 68,
   "metadata": {},
   "outputs": [
    {
     "data": {
      "text/plain": [
       "[[0, 0, 1, 0, 0, 0],\n",
       " [1, 0, 0, 1, 0, 0],\n",
       " [2, 0, 0, 0, 1, 0],\n",
       " [3, 0, 0, 0, 0, 1],\n",
       " [4, 0, 0, 0, 0, -1],\n",
       " [5, 0, 0, 0, -1, 0],\n",
       " [6, 0, 0, -1, 0, 0],\n",
       " [7, 0, -1, 0, 0, 0],\n",
       " [8, -1, 0, 0, 0, 0]]"
      ]
     },
     "execution_count": 68,
     "metadata": {},
     "output_type": "execute_result"
    }
   ],
   "source": [
    "def list_to_matrix(a):\n",
    "    matrix = []\n",
    "    largest = largest_digit_number(a)\n",
    "    for i in range(len(a)):\n",
    "        matrix += [list_to_row(a[i], largest, i )]\n",
    "    return matrix\n",
    "list_to_matrix(a)"
   ]
  },
  {
   "cell_type": "code",
   "execution_count": 75,
   "metadata": {},
   "outputs": [
    {
     "name": "stdout",
     "output_type": "stream",
     "text": [
      "[[ 0  0  1  0  0  0]\n",
      " [ 1  0  0  1  0  0]\n",
      " [ 2  0  0  0  1  0]\n",
      " [ 3  0  0  0  0  1]\n",
      " [ 4  0  0  0  0 -1]\n",
      " [ 5  0  0  0 -1  0]\n",
      " [ 6  0  0 -1  0  0]\n",
      " [ 7  0 -1  0  0  0]\n",
      " [ 8 -1  0  0  0  0]]\n",
      "[[ 4  0  0  0  0 -1]\n",
      " [ 0  0  1  0  0  0]\n",
      " [ 1  0  0  1  0  0]\n",
      " [ 2  0  0  0  1  0]\n",
      " [ 5  0  0  0 -1  0]\n",
      " [ 6  0  0 -1  0  0]\n",
      " [ 7  0 -1  0  0  0]\n",
      " [ 8 -1  0  0  0  0]\n",
      " [ 3  0  0  0  0  1]]\n"
     ]
    }
   ],
   "source": [
    "import numpy as np\n",
    "arr2D = np.array(list_to_matrix(a))\n",
    "print(arr2D)\n",
    "arr2D = arr2D[arr2D[:, -1].argsort()] # Ordenando a ultima coluna da matriz\n",
    "print(arr2D)"
   ]
  },
  {
   "cell_type": "code",
   "execution_count": 88,
   "metadata": {},
   "outputs": [
    {
     "data": {
      "text/plain": [
       "array([[ 9, -1,  0,  0,  0,  0],\n",
       "       [ 8,  0, -1,  0,  0,  0],\n",
       "       [ 7,  0,  0, -1,  0,  0],\n",
       "       [ 5,  0,  0,  0, -1,  0],\n",
       "       [ 6,  0,  0,  0, -1,  0],\n",
       "       [ 4,  0,  0,  0,  0, -1],\n",
       "       [ 3,  0,  0,  0,  0,  1],\n",
       "       [ 2,  0,  0,  0,  1,  0],\n",
       "       [ 1,  0,  0,  1,  0,  0],\n",
       "       [ 0,  0,  1,  0,  0,  0]])"
      ]
     },
     "execution_count": 88,
     "metadata": {},
     "output_type": "execute_result"
    }
   ],
   "source": [
    "def sorted_matrix(a):\n",
    "    arr2D = np.array(list_to_matrix(a))\n",
    "    for i in range(1, largest_digit_number(a)+1):\n",
    "        arr2D = arr2D[arr2D[:, -i].argsort()]\n",
    "    return arr2D\n",
    "sm = sorted_matrix(a)\n",
    "sm"
   ]
  },
  {
   "cell_type": "code",
   "execution_count": 84,
   "metadata": {},
   "outputs": [
    {
     "data": {
      "text/plain": [
       "[8, 7, 6, 5, 4, 3, 2, 1, 0]"
      ]
     },
     "execution_count": 84,
     "metadata": {},
     "output_type": "execute_result"
    }
   ],
   "source": [
    "index = []\n",
    "for i in range(len(sm)):\n",
    "    index += [sm[i][0]]\n",
    "index"
   ]
  },
  {
   "cell_type": "code",
   "execution_count": 114,
   "metadata": {},
   "outputs": [
    {
     "data": {
      "text/plain": [
       "[-10000, -1000, -100, -10, -10, -1, 1, 10, 100, 1000]"
      ]
     },
     "execution_count": 114,
     "metadata": {},
     "output_type": "execute_result"
    }
   ],
   "source": [
    "def radix_sort(a):\n",
    "    sorted_list = []\n",
    "    radix_matrix = sorted_matrix(a)\n",
    "    for i in range(len(radix_matrix)):\n",
    "        sorted_list += [a[radix_matrix[i][0]]]\n",
    "    return sorted_list\n",
    "radix_sort(a)"
   ]
  },
  {
   "cell_type": "code",
   "execution_count": 115,
   "metadata": {},
   "outputs": [
    {
     "data": {
      "text/plain": [
       "array([93287,    -2, 94656,   -29,   -14,    24,   -48,     8, 55486,\n",
       "       83534, 67567,    15,    22,   -24,   -30, 50712,   -33, 84648,\n",
       "       52274,    39])"
      ]
     },
     "execution_count": 115,
     "metadata": {},
     "output_type": "execute_result"
    }
   ],
   "source": [
    "arr[:20]"
   ]
  },
  {
   "cell_type": "code",
   "execution_count": 112,
   "metadata": {},
   "outputs": [
    {
     "data": {
      "text/plain": [
       "[[0, 9, 3, 2, 8, 7],\n",
       " [1, 0, 0, 0, 0, -2],\n",
       " [2, 9, 4, 6, 5, 6],\n",
       " [3, 0, 0, 0, -2, 9],\n",
       " [4, 0, 0, 0, -1, 4],\n",
       " [5, 0, 0, 0, 2, 4],\n",
       " [6, 0, 0, 0, -4, 8],\n",
       " [7, 0, 0, 0, 0, 8],\n",
       " [8, 5, 5, 4, 8, 6],\n",
       " [9, 8, 3, 5, 3, 4],\n",
       " [10, 6, 7, 5, 6, 7],\n",
       " [11, 0, 0, 0, 1, 5],\n",
       " [12, 0, 0, 0, 2, 2],\n",
       " [13, 0, 0, 0, -2, 4],\n",
       " [14, 0, 0, 0, -3, 0],\n",
       " [15, 5, 0, 7, 1, 2],\n",
       " [16, 0, 0, 0, -3, 3],\n",
       " [17, 8, 4, 6, 4, 8],\n",
       " [18, 5, 2, 2, 7, 4],\n",
       " [19, 0, 0, 0, 3, 9]]"
      ]
     },
     "execution_count": 112,
     "metadata": {},
     "output_type": "execute_result"
    }
   ],
   "source": [
    "list_to_matrix(arr[:20])"
   ]
  },
  {
   "cell_type": "code",
   "execution_count": 116,
   "metadata": {},
   "outputs": [
    {
     "data": {
      "text/plain": [
       "array([[ 6,  0,  0,  0, -4,  8],\n",
       "       [ 4,  0,  0,  0, -1,  4],\n",
       "       [14,  0,  0,  0, -3,  0],\n",
       "       [13,  0,  0,  0, -2,  4],\n",
       "       [ 3,  0,  0,  0, -2,  9],\n",
       "       [12,  0,  0,  0,  2,  2],\n",
       "       [16,  0,  0,  0, -3,  3],\n",
       "       [ 1,  0,  0,  0,  0, -2],\n",
       "       [11,  0,  0,  0,  1,  5],\n",
       "       [ 5,  0,  0,  0,  2,  4],\n",
       "       [19,  0,  0,  0,  3,  9],\n",
       "       [ 7,  0,  0,  0,  0,  8],\n",
       "       [ 8,  5,  5,  4,  8,  6],\n",
       "       [15,  5,  0,  7,  1,  2],\n",
       "       [18,  5,  2,  2,  7,  4],\n",
       "       [10,  6,  7,  5,  6,  7],\n",
       "       [ 9,  8,  3,  5,  3,  4],\n",
       "       [17,  8,  4,  6,  4,  8],\n",
       "       [ 0,  9,  3,  2,  8,  7],\n",
       "       [ 2,  9,  4,  6,  5,  6]])"
      ]
     },
     "execution_count": 116,
     "metadata": {},
     "output_type": "execute_result"
    }
   ],
   "source": [
    "sorted_matrix(arr[:20])"
   ]
  },
  {
   "cell_type": "markdown",
   "metadata": {},
   "source": [
    "## Algoritmo Bucket Sort"
   ]
  },
  {
   "cell_type": "code",
   "execution_count": 18,
   "metadata": {},
   "outputs": [
    {
     "data": {
      "text/plain": [
       "[[1, 12, 13, 14, 15, 16], 1, 2, 3, 4, 5, 6, 7, 8, 9]"
      ]
     },
     "execution_count": 18,
     "metadata": {},
     "output_type": "execute_result"
    }
   ],
   "source": [
    "bucket = [x for x in range(10)]\n",
    "list_0 = [1, 12, 13, 14, 15]\n",
    "bucket[0] = list_0\n",
    "bucket\n",
    "a = 16\n",
    "bucket[0] += [a]\n",
    "bucket"
   ]
  },
  {
   "cell_type": "code",
   "execution_count": 7,
   "metadata": {},
   "outputs": [
    {
     "name": "stdout",
     "output_type": "stream",
     "text": [
      "[0, 1, 2, 3, 4, 5, 6, 7, 8, 9]\n",
      "[0, 1, 2, 3, 4, 5, 6, 7, 8, 9]\n"
     ]
    }
   ],
   "source": [
    "# Criando os buckets para a ordenacao (de 0 a 9 dividido entre numeros positivos e negativos)\n",
    "bucket_positive = [x for x in range(10)]\n",
    "bucket_negative = bucket_positive"
   ]
  },
  {
   "cell_type": "code",
   "execution_count": 59,
   "metadata": {},
   "outputs": [
    {
     "data": {
      "text/plain": [
       "[-48,\n",
       " -33,\n",
       " -30,\n",
       " -29,\n",
       " -24,\n",
       " -14,\n",
       " -2,\n",
       " 8,\n",
       " 15,\n",
       " 22,\n",
       " 24,\n",
       " 39,\n",
       " 50712,\n",
       " 52274,\n",
       " 55486,\n",
       " 67567,\n",
       " 83534,\n",
       " 84648,\n",
       " 93287,\n",
       " 94656]"
      ]
     },
     "execution_count": 59,
     "metadata": {},
     "output_type": "execute_result"
    }
   ],
   "source": [
    "def bucket_sort(a):\n",
    "    bucket_length = 10\n",
    "    bucket_positive = [[]]*bucket_length\n",
    "    bucket_negative = [[]]*bucket_length\n",
    "    ldn = largest_digit_number(a)\n",
    "    num = 0.0\n",
    "    res = []\n",
    "    for i in range(len(a)):\n",
    "        num = a[i]/math.pow(bucket_length,ldn-1)\n",
    "        if num < 0:\n",
    "            if not bucket_negative[int(abs(num))]:\n",
    "                bucket_negative[int(abs(num))] = [a[i]]\n",
    "            else: \n",
    "                bucket_negative[int(abs(num))] += [a[i]] \n",
    "        else:\n",
    "            if not bucket_positive[int(abs(num))]:\n",
    "                bucket_positive[int(abs(num))] = [a[i]]\n",
    "            else: \n",
    "                bucket_positive[int(abs(num))] += [a[i]]\n",
    "    for i in range(bucket_length):\n",
    "        if bucket_negative[i]:\n",
    "            bucket_negative[i] = counting_sort(bucket_negative[i])\n",
    "        if bucket_positive[i]:\n",
    "            bucket_positive[i] = counting_sort(bucket_positive[i])\n",
    "    bucket_negative.reverse() \n",
    "    res = sum(bucket_negative, []) + sum(bucket_positive, [])\n",
    "    return res\n",
    "    \n",
    "#bucket_sort([-2, -4, -8, -16])\n",
    "bucket_sort(arr[:20])\n",
    "        "
   ]
  },
  {
   "cell_type": "code",
   "execution_count": 22,
   "metadata": {},
   "outputs": [
    {
     "name": "stdout",
     "output_type": "stream",
     "text": [
      "Exists!\n"
     ]
    }
   ],
   "source": [
    "arr = [[]]*10\n",
    "if not arr[0]:\n",
    "    arr[0] = [14]\n",
    "else:\n",
    "    arr[0] += [14]\n",
    "arr\n",
    "\n",
    "arr[0] += [17]\n",
    "if arr[0]:\n",
    "    print(\"Exists!\")"
   ]
  },
  {
   "cell_type": "code",
   "execution_count": 55,
   "metadata": {},
   "outputs": [
    {
     "data": {
      "text/plain": [
       "[None, [], [], [], [], None, None, [], None, None]"
      ]
     },
     "execution_count": 55,
     "metadata": {},
     "output_type": "execute_result"
    }
   ],
   "source": []
  },
  {
   "cell_type": "code",
   "execution_count": 57,
   "metadata": {},
   "outputs": [
    {
     "data": {
      "text/plain": [
       "[93287, 94656, 83534, 84648, 67567, 50712, 52274, 55486]"
      ]
     },
     "execution_count": 57,
     "metadata": {},
     "output_type": "execute_result"
    }
   ],
   "source": [
    "k = [[8, 15, 22, 24, 39], [], [], [], [], [50712, 52274, 55486], [67567], [], [83534, 84648], [93287, 94656]]\n",
    "res = []\n",
    "for i in range(len(k)-1, 0, -1):\n",
    "    if k[i]:\n",
    "        res += k[i]\n",
    "res"
   ]
  },
  {
   "cell_type": "code",
   "execution_count": null,
   "metadata": {},
   "outputs": [],
   "source": []
  }
 ],
 "metadata": {
  "kernelspec": {
   "display_name": "Python 3",
   "language": "python",
   "name": "python3"
  },
  "language_info": {
   "codemirror_mode": {
    "name": "ipython",
    "version": 3
   },
   "file_extension": ".py",
   "mimetype": "text/x-python",
   "name": "python",
   "nbconvert_exporter": "python",
   "pygments_lexer": "ipython3",
   "version": "3.6.9"
  }
 },
 "nbformat": 4,
 "nbformat_minor": 4
}
